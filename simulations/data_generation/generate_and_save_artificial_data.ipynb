{
 "cells": [
  {
   "cell_type": "markdown",
   "metadata": {},
   "source": [
    "# Generating Artifical Data for Simulations\n",
    "\n",
    "This notebook generates artificial data for simulations. It includes data generation functions, covering a basic simulation example and scenarios in which parametrs are varied. Generated data is saved, with an example provided in the `artificial_example` folder. Due to the data's size, only an example of the generated data is included."
   ]
  },
  {
   "cell_type": "markdown",
   "metadata": {},
   "source": [
    "## Packages"
   ]
  },
  {
   "cell_type": "code",
   "execution_count": 2,
   "metadata": {},
   "outputs": [],
   "source": [
    "import os\n",
    "import numpy as np\n",
    "from tqdm import tqdm\n",
    "import time\n",
    "import dill\n",
    "\n",
    "from generate_artificial_data_fun import *"
   ]
  },
  {
   "cell_type": "markdown",
   "metadata": {},
   "source": [
    "## Simulation functions"
   ]
  },
  {
   "cell_type": "markdown",
   "metadata": {},
   "source": [
    "### Basic simulation function"
   ]
  },
  {
   "cell_type": "code",
   "execution_count": 3,
   "metadata": {},
   "outputs": [],
   "source": [
    "def basic_simulations_scenario():\n",
    "    N = 250 # number of observations \n",
    "    M = 3 # number of views\n",
    "    K = 5 # number of hidden factors\n",
    "    D = [10, 10, 10] # number of features in views\n",
    "    G = 100 # number of distinct words\n",
    "    L = D[2] # number of topics (the last view is not observed directly - we observe words)\n",
    "    # covariance matrix in CTM:\n",
    "    Sigma0 = np.eye(L)\n",
    "    Sigma0 = Sigma0 + 0.5*(np.tri(L, L, -1) - np.tri(L, L, -2)) + 0.5*(np.tri(L, L, -1) - np.tri(L, L, -2)).T\n",
    "    mu0 = np.zeros(L)\n",
    "    # data variances in FA:\n",
    "    var_weights = []\n",
    "    var_weight_M0 = np.ones((D[0], K))\n",
    "    var_weight_M0[:,1] = 0\n",
    "    var_weight_M0[:,4] = 0\n",
    "    var_weight_M1 = np.ones((D[1], K))\n",
    "    var_weight_M1[:,2] = 0\n",
    "    var_weight_M2 = np.ones((D[2], K))\n",
    "    var_weight_M2[:,3:] = 0\n",
    "    var_weights = [var_weight_M0, var_weight_M1, var_weight_M2]\n",
    "    # setting parameters:\n",
    "    simulations_sample_fa_params = {'K': K, 'N': N, 'D': D, 'M': M, 'sparsity_factor_fraction': 0, 'sparsity_feature_fraction': 0.1,\n",
    "                                    'var_weights': var_weights}\n",
    "    simulations_sample_ctm_params = {'N': N, 'G': G, 'L': L, 'sentences_per_observation': 'constant', \n",
    "                                    'sentences_per_observation_params': {'const': 100},\n",
    "                                    'words_per_sentence': 10, 'FA': True,\n",
    "                                    'mu0': mu0,\n",
    "                                    'Sigma0': 5*Sigma0, 'topics_params': np.ones(G)}\n",
    "\n",
    "    which_ctm = [False, False, True]\n",
    "    \n",
    "    simulations_sample_params =  {'simulations_sample_fa_params': simulations_sample_fa_params,\n",
    "                                  'simulations_sample_ctm_params': simulations_sample_ctm_params,\n",
    "                                  'which_ctm': which_ctm}\n",
    "\n",
    "    return simulations_sample_params"
   ]
  },
  {
   "cell_type": "code",
   "execution_count": 4,
   "metadata": {},
   "outputs": [],
   "source": [
    "def sparsity_simulations_scenario():\n",
    "    N = 250 # number of observations \n",
    "    M = 3 # number of views\n",
    "    K = 5 # number of hidden factors\n",
    "    D = [500, 500, 10] # number of features in views\n",
    "    G = 100 # number of distinct words\n",
    "    L = D[2] # number of topics (the last view is not observed directly - we observe words)\n",
    "    # covariance matrix in CTM:\n",
    "    Sigma0 = np.eye(L)\n",
    "    Sigma0 = Sigma0 + 0.5*(np.tri(L, L, -1) - np.tri(L, L, -2)) + 0.5*(np.tri(L, L, -1) - np.tri(L, L, -2)).T\n",
    "    mu0 = np.zeros(L)\n",
    "    # data variances in FA:\n",
    "    var_weights = []\n",
    "    var_weight_M0 = np.ones((D[0], K))\n",
    "    var_weight_M0[:,1] = 0\n",
    "    var_weight_M0[:,4] = 0\n",
    "    var_weight_M1 = np.ones((D[1], K))\n",
    "    var_weight_M1[:,2] = 0\n",
    "    var_weight_M2 = np.ones((D[2], K))\n",
    "    var_weight_M2[:,3:] = 0\n",
    "    var_weights = [var_weight_M0, var_weight_M1, var_weight_M2]\n",
    "    # setting parameters:\n",
    "    simulations_sample_fa_params = {'K': K, 'N': N, 'D': D, 'M': M, 'sparsity_factor_fraction': 0, 'sparsity_feature_fraction': 0.1,\n",
    "                                    'var_weights': var_weights}\n",
    "    simulations_sample_ctm_params = {'N': N, 'G': G, 'L': L, 'sentences_per_observation': 'constant', \n",
    "                                    'sentences_per_observation_params': {'const': 100},\n",
    "                                    'words_per_sentence': 10, 'FA': True,\n",
    "                                    'mu0': mu0,\n",
    "                                    'Sigma0': 5*Sigma0, 'topics_params': np.ones(G)}\n",
    "\n",
    "    which_ctm = [False, False, True]\n",
    "    \n",
    "    simulations_sample_params =  {'simulations_sample_fa_params': simulations_sample_fa_params,\n",
    "                                  'simulations_sample_ctm_params': simulations_sample_ctm_params,\n",
    "                                  'which_ctm': which_ctm}\n",
    "\n",
    "    return simulations_sample_params"
   ]
  },
  {
   "cell_type": "markdown",
   "metadata": {},
   "source": [
    "### Simulation scenarios - varying parameters"
   ]
  },
  {
   "cell_type": "code",
   "execution_count": 5,
   "metadata": {},
   "outputs": [],
   "source": [
    "def sim_scenario_scaling_weights(param):\n",
    "    \n",
    "    params = basic_simulations_scenario()\n",
    "    \n",
    "    muFA_scale = np.ones((params['simulations_sample_fa_params']['M']))\n",
    "    muFA_scale[params['simulations_sample_fa_params']['M']-1] = param\n",
    "    params['simulations_sample_fa_params']['muFA_scale'] = muFA_scale\n",
    "\n",
    "    return params"
   ]
  },
  {
   "cell_type": "code",
   "execution_count": 6,
   "metadata": {},
   "outputs": [],
   "source": [
    "def sim_scenario_scaling_Sigma0(param):\n",
    "    \n",
    "    params = basic_simulations_scenario()\n",
    "\n",
    "    Sigma0_scale = param*params['simulations_sample_ctm_params']['Sigma0']\n",
    "    params['simulations_sample_ctm_params']['Sigma0'] = Sigma0_scale\n",
    "\n",
    "    return params"
   ]
  },
  {
   "cell_type": "code",
   "execution_count": 7,
   "metadata": {},
   "outputs": [],
   "source": [
    "def sim_scenario_scaling_topics_param(param):\n",
    "    \n",
    "    params = basic_simulations_scenario()\n",
    "    \n",
    "    topics_param_scale = param*params['simulations_sample_ctm_params']['topics_params']\n",
    "    params['simulations_sample_ctm_params']['topics_params'] = topics_param_scale\n",
    "\n",
    "    return params"
   ]
  },
  {
   "cell_type": "code",
   "execution_count": 8,
   "metadata": {},
   "outputs": [],
   "source": [
    "def sim_scenario_scaling_mu0(param):\n",
    "    \n",
    "    params = basic_simulations_scenario()\n",
    "    \n",
    "    mu0_max = np.log(np.linspace(1, 3, 10)/np.sum(np.linspace(1, 3, 10)))\n",
    "    mu0_max = mu0_max - np.mean(mu0_max)\n",
    "\n",
    "    params['simulations_sample_ctm_params']['mu0'] = (1 - param)*mu0_max\n",
    "\n",
    "    return params"
   ]
  },
  {
   "cell_type": "code",
   "execution_count": 9,
   "metadata": {},
   "outputs": [],
   "source": [
    "def sim_scenario_scaling_D_topics(param):\n",
    "    \n",
    "    params = basic_simulations_scenario()\n",
    "    \n",
    "    K = params['simulations_sample_fa_params']['K']\n",
    "    D = params['simulations_sample_fa_params']['D']\n",
    "    D[2] = int(param*D[2])\n",
    "    L = D[2] \n",
    "    Sigma0 = np.eye(L)\n",
    "    Sigma0 = Sigma0 + 0.5*(np.tri(L, L, -1) - np.tri(L, L, -2)) + 0.5*(np.tri(L, L, -1) - np.tri(L, L, -2)).T\n",
    "    mu0 = np.zeros(L)\n",
    "    var_weights = []\n",
    "    var_weight_M0 = np.ones((D[0], K))\n",
    "    var_weight_M0[:,1] = 0\n",
    "    var_weight_M0[:,4] = 0\n",
    "    var_weight_M1 = np.ones((D[1], K))\n",
    "    var_weight_M1[:,2] = 0\n",
    "    var_weight_M2 = np.ones((D[2], K))\n",
    "    var_weight_M2[:,3:] = 0\n",
    "    var_weights = [var_weight_M0, var_weight_M1, var_weight_M2]\n",
    "\n",
    "    params['simulations_sample_fa_params']['D'] = D\n",
    "    params['simulations_sample_fa_params']['var_weights'] = var_weights\n",
    "\n",
    "    params['simulations_sample_ctm_params']['L'] = L\n",
    "    params['simulations_sample_ctm_params']['mu0'] = mu0\n",
    "    params['simulations_sample_ctm_params']['Sigma0'] = 5*Sigma0\n",
    "\n",
    "    return params"
   ]
  },
  {
   "cell_type": "code",
   "execution_count": 10,
   "metadata": {},
   "outputs": [],
   "source": [
    "def sim_scenario_scaling_sparsity(param):\n",
    "    \n",
    "    params = sparsity_simulations_scenario()\n",
    "    \n",
    "    sparse_param = 0.1 + (0.7 - 0.1)*(1 - param)\n",
    "    params['simulations_sample_fa_params']['sparsity_feature_fraction'] = sparse_param\n",
    "\n",
    "    return params"
   ]
  },
  {
   "cell_type": "markdown",
   "metadata": {},
   "source": [
    "### Generation"
   ]
  },
  {
   "cell_type": "code",
   "execution_count": 11,
   "metadata": {},
   "outputs": [],
   "source": [
    "def sim_scenario(name, param=None):\n",
    "    if name == 'basic':\n",
    "        params = basic_simulations_scenario()\n",
    "    if name == 'scenario1':\n",
    "        params = sim_scenario_scaling_weights(param)\n",
    "    if name == 'scenario2':\n",
    "        params = sim_scenario_scaling_topics_param(param)\n",
    "    if name == 'scenario3':\n",
    "        params = sim_scenario_scaling_D_topics(param)    \n",
    "    if name == 'scenario4':\n",
    "        params = sim_scenario_scaling_mu0(param)\n",
    "    if name == 'scenario5':\n",
    "        params = sim_scenario_scaling_Sigma0(param) \n",
    "    if name == 'basic_sparsity':\n",
    "        params = sim_scenario_scaling_sparsity()\n",
    "    if name == 'scenario6_sparsity':\n",
    "        params = sim_scenario_scaling_sparsity(param)   \n",
    "    \n",
    "    return params"
   ]
  },
  {
   "cell_type": "code",
   "execution_count": 12,
   "metadata": {},
   "outputs": [],
   "source": [
    "def generate_datasets(file_path, simulation_scenario, simulation_param, seed):\n",
    "\n",
    "    params_sim = sim_scenario(simulation_scenario, simulation_param)\n",
    "    \n",
    "    data_simulations, data_fa_info, data_ctm_info = simulations_sample_factm(**params_sim, seed=seed)\n",
    "\n",
    "    file_name = simulation_scenario + \"_\" + str(simulation_param) + '_' + str(seed) +'.pkl'\n",
    "\n",
    "    with open(os.path.join(file_path, file_name), 'wb') as file:\n",
    "        dill.dump([data_simulations, data_fa_info, data_ctm_info, params_sim], file)"
   ]
  },
  {
   "cell_type": "markdown",
   "metadata": {},
   "source": [
    "## Saving"
   ]
  },
  {
   "cell_type": "code",
   "execution_count": 13,
   "metadata": {},
   "outputs": [],
   "source": [
    "file_path_scenario = os.path.join('artificial_datasets')"
   ]
  },
  {
   "cell_type": "code",
   "execution_count": 14,
   "metadata": {},
   "outputs": [],
   "source": [
    "seed_seq = range(123, 123+10)"
   ]
  },
  {
   "cell_type": "markdown",
   "metadata": {},
   "source": [
    "### Basic"
   ]
  },
  {
   "cell_type": "code",
   "execution_count": 15,
   "metadata": {},
   "outputs": [],
   "source": [
    "for seed in seed_seq:\n",
    "    generate_datasets(file_path_scenario, 'basic', None, seed)"
   ]
  },
  {
   "cell_type": "code",
   "execution_count": 8,
   "metadata": {},
   "outputs": [],
   "source": [
    "seed_seq = range(123, 123+10)\n",
    "par_seq = [0.0, 0.5, 1.5, 1.0]\n",
    "par_seq = [2.0]"
   ]
  },
  {
   "cell_type": "markdown",
   "metadata": {},
   "source": [
    "### Main scenarios - 1-5"
   ]
  },
  {
   "cell_type": "code",
   "execution_count": 9,
   "metadata": {},
   "outputs": [],
   "source": [
    "par_seq = [0.0, 0.5, 1.5, 2.0]\n",
    "for seed in seed_seq:\n",
    "    for par in par_seq:\n",
    "        generate_datasets(file_path_scenario, 'scenario1', par, seed)"
   ]
  },
  {
   "cell_type": "code",
   "execution_count": 27,
   "metadata": {},
   "outputs": [],
   "source": [
    "par_seq = [5, 10]\n",
    "for seed in seed_seq:\n",
    "    for par in par_seq:\n",
    "        generate_datasets(file_path_scenario, 'scenario2', par, seed)"
   ]
  },
  {
   "cell_type": "code",
   "execution_count": 24,
   "metadata": {},
   "outputs": [],
   "source": [
    "par_seq = [0.5, 1.5]\n",
    "for seed in seed_seq:\n",
    "    for par in par_seq:\n",
    "        generate_datasets(file_path_scenario, 'scenario3', par, seed)"
   ]
  },
  {
   "cell_type": "code",
   "execution_count": 18,
   "metadata": {},
   "outputs": [],
   "source": [
    "par_seq = [0.0, 0.25, 0.5, 0.75]\n",
    "for seed in seed_seq:\n",
    "    for par in par_seq:\n",
    "        generate_datasets(file_path_scenario, 'scenario4', par, seed)"
   ]
  },
  {
   "cell_type": "code",
   "execution_count": 23,
   "metadata": {},
   "outputs": [],
   "source": [
    "par_seq = [0.2, 0.6]\n",
    "for seed in seed_seq:\n",
    "    for par in par_seq:\n",
    "        generate_datasets(file_path_scenario, 'scenario5', par, seed)"
   ]
  },
  {
   "cell_type": "markdown",
   "metadata": {},
   "source": [
    "### Additional scenario 6"
   ]
  },
  {
   "cell_type": "code",
   "execution_count": 48,
   "metadata": {},
   "outputs": [],
   "source": [
    "for seed in seed_seq:\n",
    "    generate_datasets(file_path_scenario, 'basic_sparsity', None, seed)\n",
    "\n",
    "par_seq = [0.0, 0.25, 0.5, 0.75]\n",
    "for seed in seed_seq:\n",
    "    for par in par_seq:\n",
    "        generate_datasets(file_path_scenario, 'scenario6_sparsity', par, seed)"
   ]
  }
 ],
 "metadata": {
  "kernelspec": {
   "display_name": "base",
   "language": "python",
   "name": "python3"
  },
  "language_info": {
   "codemirror_mode": {
    "name": "ipython",
    "version": 3
   },
   "file_extension": ".py",
   "mimetype": "text/x-python",
   "name": "python",
   "nbconvert_exporter": "python",
   "pygments_lexer": "ipython3",
   "version": "3.10.9"
  }
 },
 "nbformat": 4,
 "nbformat_minor": 2
}
