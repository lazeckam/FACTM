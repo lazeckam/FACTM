{
 "cells": [
  {
   "cell_type": "markdown",
   "metadata": {},
   "source": [
    "# Computing metrics for simulations\n",
    "\n",
    "In this notebook, we compute the results for each simulation scenario and save them in the `results` folder. The combined results are then saved and stored in the following CSV files (which are available on github in the `Figures` folder):\n",
    " - `simulation_results_fa.csv`\n",
    " - `simulation_results_ctm_v1.csv`\n",
    " - `simulation_results_ctm_v2.csv`\n",
    " - `simulations_additional_results.csv`\n",
    "These files will be used later for generating figures.\n",
    "\n",
    "-----\n",
    "\n",
    "**Alternative Names for Simulation Scenarios**\n",
    "\n",
    "To clarify the variations in parameters for each scenario, the following alternative names are used:\n",
    "- Scenario 1: `scaling_weights`\n",
    "- Scenario 2: `scaling_topics_param`\n",
    "- Scenario 3: `scaling_D_topics`\n",
    "- Scenario 4: `scaling_mu0`\n",
    "- Scenario 5: `scaling_Sigma0`\n",
    "- Scenario 6: `scaling_sparsity`"
   ]
  },
  {
   "cell_type": "markdown",
   "metadata": {},
   "source": [
    "## Packages & functions"
   ]
  },
  {
   "cell_type": "code",
   "execution_count": 1,
   "metadata": {},
   "outputs": [],
   "source": [
    "from compute_metrics_results import *\n",
    "import pandas as pd"
   ]
  },
  {
   "cell_type": "markdown",
   "metadata": {},
   "source": [
    "## Scenario 1"
   ]
  },
  {
   "cell_type": "code",
   "execution_count": null,
   "metadata": {},
   "outputs": [],
   "source": [
    "simulation_scenario = 'scenario1'\n",
    "simulation_params = [0.0, 0.5, 1.0, 1.5, 2.0]"
   ]
  },
  {
   "cell_type": "code",
   "execution_count": null,
   "metadata": {},
   "outputs": [],
   "source": [
    "results_fa_factm, results_ctm_factm = compute_simulation_scenario(simulation_scenario, simulation_params, 'factm', 10, seed=123)\n",
    "results_fa_factm_recon, results_ctm_factm_recon = compute_simulation_scenario(simulation_scenario, simulation_params, 'factm', 10, seed=123, which_results = 'reconstruction')\n",
    "results_fa_fa_ctm, results_ctm_fa_ctm = compute_simulation_scenario(simulation_scenario, simulation_params, 'fa_ctm', 10, seed=123)"
   ]
  },
  {
   "cell_type": "code",
   "execution_count": null,
   "metadata": {},
   "outputs": [],
   "source": [
    "\n",
    "results_fa_fa, results_ctm_fa = compute_simulation_scenario(simulation_scenario, simulation_params, 'fa', 10, seed=123)\n",
    "results_fa_fa_oracle, results_ctm_fa_oracle = compute_simulation_scenario(simulation_scenario, simulation_params, 'fa_oracle', 10, seed=123)\n",
    "results_fa_muvi = compute_simulation_scenario_fa(simulation_scenario, simulation_params, 'muvi', 10, seed=123)\n",
    "results_fa_muvi_prior = compute_simulation_scenario_fa(simulation_scenario, simulation_params, 'muvi_prior', 10, seed=123)\n",
    "results_fa_mofa = compute_simulation_scenario_fa(simulation_scenario, simulation_params, 'mofa', 10, seed=123)\n",
    "results_fa_pca = compute_simulation_scenario_fa(simulation_scenario, simulation_params, 'pca', 10, seed=123)\n",
    "results_fa_tucker = compute_simulation_scenario_fa(simulation_scenario, simulation_params, 'tucker', 10, seed=123)"
   ]
  },
  {
   "cell_type": "code",
   "execution_count": null,
   "metadata": {},
   "outputs": [],
   "source": [
    "results_ctm_lda_sklearn = compute_simulation_scenario_other(simulation_scenario, simulation_params, 'lda_sklearn', 10, seed=123)\n",
    "results_ctm_prodlda_pyro = compute_simulation_scenario_other(simulation_scenario, simulation_params, 'prodlda_pyro', 10, seed=123)"
   ]
  },
  {
   "cell_type": "markdown",
   "metadata": {},
   "source": [
    "### Save results - structered part"
   ]
  },
  {
   "cell_type": "code",
   "execution_count": null,
   "metadata": {},
   "outputs": [],
   "source": [
    "results = [results_ctm_factm, results_ctm_factm_recon, results_ctm_fa_ctm,\n",
    "           results_ctm_lda_sklearn, results_ctm_prodlda_pyro]\n",
    "var_list = ['muFA_corr_spearmann', \n",
    "            'eta_corr_spearmann', 'eta_prob_spearmann', 'eta_prob_wasserstein', 'eta_prob_est_wasserstein',\n",
    "             'topics_wasserstein', 'topics_corr_spearmann', 'clusters_ARI']\n",
    "model_names = ['FACTM', 'FACTM(R)', 'CTM', 'LDA', 'ProdLDA']"
   ]
  },
  {
   "cell_type": "code",
   "execution_count": 8,
   "metadata": {},
   "outputs": [],
   "source": [
    "df = pd.DataFrame()\n",
    "for var in var_list:\n",
    "    for i in range(len(results)):\n",
    "        df_tmp = pd.DataFrame(results[i][var], columns=simulation_params)\n",
    "        df_tmp = pd.melt(df_tmp, value_name='value', var_name='param')\n",
    "        df_tmp['Models'] = model_names[i]\n",
    "        df_tmp['var'] = var\n",
    "        df = pd.concat([df_tmp, df])\n",
    "df['sim_scenario'] = 'scaling_weights'\n",
    "df = df.iloc[::-1]"
   ]
  },
  {
   "cell_type": "code",
   "execution_count": 10,
   "metadata": {},
   "outputs": [],
   "source": [
    "df.to_csv('./results/scenario1_ctm.csv')"
   ]
  },
  {
   "cell_type": "markdown",
   "metadata": {},
   "source": [
    "### Save results - latent factors"
   ]
  },
  {
   "cell_type": "code",
   "execution_count": null,
   "metadata": {},
   "outputs": [],
   "source": [
    "results = [results_fa_factm, results_fa_factm_recon, results_fa_fa_ctm, results_fa_fa, \n",
    "           results_fa_fa_oracle, results_fa_mofa, results_fa_muvi, results_fa_muvi_prior,\n",
    "           results_fa_tucker, results_fa_pca]\n",
    "var_list = ['z_corr_rotated', 'z_corr_best_order']\n",
    "model_names = ['FACTM', 'FACTM(R)', 'FA+CTM', 'FA', 'FA(Oracle)', 'MOFA', 'muVI', 'muVI_prior', 'Tucker', 'PCA']"
   ]
  },
  {
   "cell_type": "code",
   "execution_count": 68,
   "metadata": {},
   "outputs": [],
   "source": [
    "df = pd.DataFrame()\n",
    "for var in var_list:\n",
    "    for i in range(len(results)):\n",
    "        df_tmp = pd.DataFrame(results[i][var], columns=simulation_params)\n",
    "        df_tmp = pd.melt(df_tmp, value_name='value', var_name='param')\n",
    "        df_tmp['Models'] = model_names[i]\n",
    "        df_tmp['var'] = var\n",
    "        df = pd.concat([df_tmp, df])\n",
    "df['sim_scenario'] = 'scaling_weights'\n",
    "df = df.iloc[::-1]"
   ]
  },
  {
   "cell_type": "code",
   "execution_count": 69,
   "metadata": {},
   "outputs": [],
   "source": [
    "df.to_csv('./results/scenario1_fa.csv')"
   ]
  },
  {
   "cell_type": "markdown",
   "metadata": {},
   "source": [
    "## Scenario 2"
   ]
  },
  {
   "cell_type": "code",
   "execution_count": null,
   "metadata": {},
   "outputs": [],
   "source": [
    "simulation_scenario = 'scenario2'\n",
    "simulation_params = [1.0, int(5), int(10)]"
   ]
  },
  {
   "cell_type": "code",
   "execution_count": null,
   "metadata": {},
   "outputs": [],
   "source": [
    "results_fa_factm, results_ctm_factm = compute_simulation_scenario(simulation_scenario, simulation_params, 'factm', 10, seed=123)\n",
    "results_fa_factm_recon, results_ctm_factm_recon = compute_simulation_scenario(simulation_scenario, simulation_params, 'factm', 10, seed=123, which_results = 'reconstruction')\n",
    "results_fa_fa_ctm, results_ctm_fa_ctm = compute_simulation_scenario(simulation_scenario, simulation_params, 'fa_ctm', 10, seed=123)"
   ]
  },
  {
   "cell_type": "code",
   "execution_count": null,
   "metadata": {},
   "outputs": [],
   "source": [
    "\n",
    "results_fa_fa, results_ctm_fa = compute_simulation_scenario(simulation_scenario, simulation_params, 'fa', 10, seed=123)\n",
    "results_fa_fa_oracle, results_ctm_fa_oracle = compute_simulation_scenario(simulation_scenario, simulation_params, 'fa_oracle', 10, seed=123)\n",
    "results_fa_muvi = compute_simulation_scenario_fa(simulation_scenario, simulation_params, 'muvi', 10, seed=123)\n",
    "results_fa_muvi_prior = compute_simulation_scenario_fa(simulation_scenario, simulation_params, 'muvi_prior', 10, seed=123)\n",
    "results_fa_mofa = compute_simulation_scenario_fa(simulation_scenario, simulation_params, 'mofa', 10, seed=123)\n",
    "results_fa_pca = compute_simulation_scenario_fa(simulation_scenario, simulation_params, 'pca', 10, seed=123)\n",
    "results_fa_tucker = compute_simulation_scenario_fa(simulation_scenario, simulation_params, 'tucker', 10, seed=123)"
   ]
  },
  {
   "cell_type": "code",
   "execution_count": null,
   "metadata": {},
   "outputs": [],
   "source": [
    "results_ctm_lda_sklearn = compute_simulation_scenario_other(simulation_scenario, simulation_params, 'lda_sklearn', 10, seed=123)\n",
    "results_ctm_prodlda_pyro = compute_simulation_scenario_other(simulation_scenario, simulation_params, 'prodlda_pyro', 10, seed=123)"
   ]
  },
  {
   "cell_type": "markdown",
   "metadata": {},
   "source": [
    "### Save results - structered part"
   ]
  },
  {
   "cell_type": "code",
   "execution_count": null,
   "metadata": {},
   "outputs": [],
   "source": [
    "results = [results_ctm_factm, results_ctm_factm_recon, results_ctm_fa_ctm,\n",
    "           results_ctm_lda_sklearn, results_ctm_prodlda_pyro]\n",
    "var_list = ['muFA_corr_spearmann', \n",
    "            'eta_corr_spearmann', 'eta_prob_spearmann', 'eta_prob_wasserstein', 'eta_prob_est_wasserstein',\n",
    "             'topics_wasserstein', 'topics_corr_spearmann', 'clusters_ARI']\n",
    "model_names = ['FACTM', 'FACTM(R)', 'CTM', 'LDA', 'ProdLDA']"
   ]
  },
  {
   "cell_type": "code",
   "execution_count": null,
   "metadata": {},
   "outputs": [],
   "source": [
    "df = pd.DataFrame()\n",
    "for var in var_list:\n",
    "    for i in range(len(results)):\n",
    "        df_tmp = pd.DataFrame(results[i][var], columns=simulation_params)\n",
    "        df_tmp = pd.melt(df_tmp, value_name='value', var_name='param')\n",
    "        df_tmp['Models'] = model_names[i]\n",
    "        df_tmp['var'] = var\n",
    "        df = pd.concat([df_tmp, df])\n",
    "df['sim_scenario'] = 'scaling_topics_param'\n",
    "df = df.iloc[::-1]"
   ]
  },
  {
   "cell_type": "code",
   "execution_count": null,
   "metadata": {},
   "outputs": [],
   "source": [
    "df.to_csv('./results/scenario2_ctm.csv')"
   ]
  },
  {
   "cell_type": "markdown",
   "metadata": {},
   "source": [
    "### Save results - latent factors"
   ]
  },
  {
   "cell_type": "code",
   "execution_count": null,
   "metadata": {},
   "outputs": [],
   "source": [
    "results = [results_fa_factm, results_fa_factm_recon, results_fa_fa_ctm, results_fa_fa, \n",
    "           results_fa_fa_oracle, results_fa_mofa, results_fa_muvi, results_fa_muvi_prior,\n",
    "           results_fa_tucker, results_fa_pca]\n",
    "var_list = ['z_corr_rotated', 'z_corr_best_order']\n",
    "model_names = ['FACTM', 'FACTM(R)', 'FA+CTM', 'FA', 'FA(Oracle)', 'MOFA', 'muVI', 'muVI_prior', 'Tucker', 'PCA']"
   ]
  },
  {
   "cell_type": "code",
   "execution_count": null,
   "metadata": {},
   "outputs": [],
   "source": [
    "df = pd.DataFrame()\n",
    "for var in var_list:\n",
    "    for i in range(len(results)):\n",
    "        df_tmp = pd.DataFrame(results[i][var], columns=simulation_params)\n",
    "        df_tmp = pd.melt(df_tmp, value_name='value', var_name='param')\n",
    "        df_tmp['Models'] = model_names[i]\n",
    "        df_tmp['var'] = var\n",
    "        df = pd.concat([df_tmp, df])\n",
    "df['sim_scenario'] = 'scaling_topics_param'\n",
    "df = df.iloc[::-1]"
   ]
  },
  {
   "cell_type": "code",
   "execution_count": null,
   "metadata": {},
   "outputs": [],
   "source": [
    "df.to_csv('./results/scenario2_fa.csv')"
   ]
  },
  {
   "cell_type": "markdown",
   "metadata": {},
   "source": [
    "## Scenario 3"
   ]
  },
  {
   "cell_type": "code",
   "execution_count": null,
   "metadata": {},
   "outputs": [],
   "source": [
    "simulation_scenario = 'scenario3'\n",
    "simulation_params = [0.5, 1.0, 1.5]"
   ]
  },
  {
   "cell_type": "code",
   "execution_count": null,
   "metadata": {},
   "outputs": [],
   "source": [
    "results_fa_factm, results_ctm_factm = compute_simulation_scenario(simulation_scenario, simulation_params, 'factm', 10, seed=123)\n",
    "results_fa_factm_recon, results_ctm_factm_recon = compute_simulation_scenario(simulation_scenario, simulation_params, 'factm', 10, seed=123, which_results = 'reconstruction')\n",
    "results_fa_fa_ctm, results_ctm_fa_ctm = compute_simulation_scenario(simulation_scenario, simulation_params, 'fa_ctm', 10, seed=123)"
   ]
  },
  {
   "cell_type": "code",
   "execution_count": null,
   "metadata": {},
   "outputs": [],
   "source": [
    "\n",
    "results_fa_fa, results_ctm_fa = compute_simulation_scenario(simulation_scenario, simulation_params, 'fa', 10, seed=123)\n",
    "results_fa_fa_oracle, results_ctm_fa_oracle = compute_simulation_scenario(simulation_scenario, simulation_params, 'fa_oracle', 10, seed=123)\n",
    "results_fa_muvi = compute_simulation_scenario_fa(simulation_scenario, simulation_params, 'muvi', 10, seed=123)\n",
    "results_fa_muvi_prior = compute_simulation_scenario_fa(simulation_scenario, simulation_params, 'muvi_prior', 10, seed=123)\n",
    "results_fa_mofa = compute_simulation_scenario_fa(simulation_scenario, simulation_params, 'mofa', 10, seed=123)\n",
    "results_fa_pca = compute_simulation_scenario_fa(simulation_scenario, simulation_params, 'pca', 10, seed=123)\n",
    "results_fa_tucker = compute_simulation_scenario_fa(simulation_scenario, simulation_params, 'tucker', 10, seed=123)"
   ]
  },
  {
   "cell_type": "code",
   "execution_count": null,
   "metadata": {},
   "outputs": [],
   "source": [
    "results_ctm_lda_sklearn = compute_simulation_scenario_other(simulation_scenario, simulation_params, 'lda_sklearn', 10, seed=123)\n",
    "results_ctm_prodlda_pyro = compute_simulation_scenario_other(simulation_scenario, simulation_params, 'prodlda_pyro', 10, seed=123)"
   ]
  },
  {
   "cell_type": "markdown",
   "metadata": {},
   "source": [
    "### Save results - structered part"
   ]
  },
  {
   "cell_type": "code",
   "execution_count": null,
   "metadata": {},
   "outputs": [],
   "source": [
    "results = [results_ctm_factm, results_ctm_factm_recon, results_ctm_fa_ctm,\n",
    "           results_ctm_lda_sklearn, results_ctm_prodlda_pyro]\n",
    "var_list = ['muFA_corr_spearmann', \n",
    "            'eta_corr_spearmann', 'eta_prob_spearmann', 'eta_prob_wasserstein', 'eta_prob_est_wasserstein',\n",
    "             'topics_wasserstein', 'topics_corr_spearmann', 'clusters_ARI']\n",
    "model_names = ['FACTM', 'FACTM(R)', 'CTM', 'LDA', 'ProdLDA']"
   ]
  },
  {
   "cell_type": "code",
   "execution_count": null,
   "metadata": {},
   "outputs": [],
   "source": [
    "df = pd.DataFrame()\n",
    "for var in var_list:\n",
    "    for i in range(len(results)):\n",
    "        df_tmp = pd.DataFrame(results[i][var], columns=simulation_params)\n",
    "        df_tmp = pd.melt(df_tmp, value_name='value', var_name='param')\n",
    "        df_tmp['Models'] = model_names[i]\n",
    "        df_tmp['var'] = var\n",
    "        df = pd.concat([df_tmp, df])\n",
    "df['sim_scenario'] = 'scaling_D_topics'\n",
    "df = df.iloc[::-1]"
   ]
  },
  {
   "cell_type": "code",
   "execution_count": null,
   "metadata": {},
   "outputs": [],
   "source": [
    "df.to_csv('./results/scenario3_ctm.csv')"
   ]
  },
  {
   "cell_type": "markdown",
   "metadata": {},
   "source": [
    "### Save results - latent factors"
   ]
  },
  {
   "cell_type": "code",
   "execution_count": null,
   "metadata": {},
   "outputs": [],
   "source": [
    "results = [results_fa_factm, results_fa_factm_recon, results_fa_fa_ctm, results_fa_fa, \n",
    "           results_fa_fa_oracle, results_fa_mofa, results_fa_muvi, results_fa_muvi_prior,\n",
    "           results_fa_tucker, results_fa_pca]\n",
    "var_list = ['z_corr_rotated', 'z_corr_best_order']\n",
    "model_names = ['FACTM', 'FACTM(R)', 'FA+CTM', 'FA', 'FA(Oracle)', 'MOFA', 'muVI', 'muVI_prior', 'Tucker', 'PCA']"
   ]
  },
  {
   "cell_type": "code",
   "execution_count": null,
   "metadata": {},
   "outputs": [],
   "source": [
    "df = pd.DataFrame()\n",
    "for var in var_list:\n",
    "    for i in range(len(results)):\n",
    "        df_tmp = pd.DataFrame(results[i][var], columns=simulation_params)\n",
    "        df_tmp = pd.melt(df_tmp, value_name='value', var_name='param')\n",
    "        df_tmp['Models'] = model_names[i]\n",
    "        df_tmp['var'] = var\n",
    "        df = pd.concat([df_tmp, df])\n",
    "df['sim_scenario'] = 'scaling_D_topics'\n",
    "df = df.iloc[::-1]"
   ]
  },
  {
   "cell_type": "code",
   "execution_count": null,
   "metadata": {},
   "outputs": [],
   "source": [
    "df.to_csv('./results/scenario3_fa.csv')"
   ]
  },
  {
   "cell_type": "markdown",
   "metadata": {},
   "source": [
    "## Scenario 4"
   ]
  },
  {
   "cell_type": "code",
   "execution_count": null,
   "metadata": {},
   "outputs": [],
   "source": [
    "simulation_scenario = 'scenario4'\n",
    "simulation_params = [1.0, 0.75, 0.5, 0.25, 0.0]"
   ]
  },
  {
   "cell_type": "code",
   "execution_count": null,
   "metadata": {},
   "outputs": [],
   "source": [
    "results_fa_factm, results_ctm_factm = compute_simulation_scenario(simulation_scenario, simulation_params, 'factm', 10, seed=123)\n",
    "results_fa_factm_recon, results_ctm_factm_recon = compute_simulation_scenario(simulation_scenario, simulation_params, 'factm', 10, seed=123, which_results = 'reconstruction')\n",
    "results_fa_fa_ctm, results_ctm_fa_ctm = compute_simulation_scenario(simulation_scenario, simulation_params, 'fa_ctm', 10, seed=123)"
   ]
  },
  {
   "cell_type": "code",
   "execution_count": null,
   "metadata": {},
   "outputs": [],
   "source": [
    "results_ctm_lda_sklearn = compute_simulation_scenario_other(simulation_scenario, simulation_params, 'lda_sklearn', 10, seed=123)\n",
    "results_ctm_prodlda_pyro = compute_simulation_scenario_other(simulation_scenario, simulation_params, 'prodlda_pyro', 10, seed=123)"
   ]
  },
  {
   "cell_type": "markdown",
   "metadata": {},
   "source": [
    "### Save results - structered part"
   ]
  },
  {
   "cell_type": "code",
   "execution_count": null,
   "metadata": {},
   "outputs": [],
   "source": [
    "results = [results_ctm_factm, results_ctm_factm_recon, results_ctm_fa_ctm,\n",
    "           results_ctm_lda_sklearn, results_ctm_prodlda_pyro]\n",
    "var_list = ['muFA_corr_spearmann', \n",
    "            'eta_corr_spearmann', 'eta_prob_spearmann', 'eta_prob_wasserstein', 'eta_prob_est_wasserstein',\n",
    "             'topics_wasserstein', 'topics_corr_spearmann', 'clusters_ARI']\n",
    "model_names = ['FACTM', 'FACTM(R)', 'CTM', 'LDA', 'ProdLDA']"
   ]
  },
  {
   "cell_type": "code",
   "execution_count": null,
   "metadata": {},
   "outputs": [],
   "source": [
    "df = pd.DataFrame()\n",
    "for var in var_list:\n",
    "    for i in range(len(results)):\n",
    "        df_tmp = pd.DataFrame(results[i][var], columns=simulation_params)\n",
    "        df_tmp = pd.melt(df_tmp, value_name='value', var_name='param')\n",
    "        df_tmp['Models'] = model_names[i]\n",
    "        df_tmp['var'] = var\n",
    "        df = pd.concat([df_tmp, df])\n",
    "df['sim_scenario'] = 'scaling_mu0'\n",
    "df = df.iloc[::-1]"
   ]
  },
  {
   "cell_type": "code",
   "execution_count": null,
   "metadata": {},
   "outputs": [],
   "source": [
    "df.to_csv('./results/scenario4_ctm.csv')"
   ]
  },
  {
   "cell_type": "markdown",
   "metadata": {},
   "source": [
    "## Scenario 5"
   ]
  },
  {
   "cell_type": "code",
   "execution_count": null,
   "metadata": {},
   "outputs": [],
   "source": [
    "simulation_scenario = 'scenario5'\n",
    "simulation_params = [0.2, 0.6, 1.0]"
   ]
  },
  {
   "cell_type": "code",
   "execution_count": null,
   "metadata": {},
   "outputs": [],
   "source": [
    "results_fa_factm, results_ctm_factm = compute_simulation_scenario(simulation_scenario, simulation_params, 'factm', 10, seed=123)\n",
    "results_fa_factm_recon, results_ctm_factm_recon = compute_simulation_scenario(simulation_scenario, simulation_params, 'factm', 10, seed=123, which_results = 'reconstruction')\n",
    "results_fa_fa_ctm, results_ctm_fa_ctm = compute_simulation_scenario(simulation_scenario, simulation_params, 'fa_ctm', 10, seed=123)"
   ]
  },
  {
   "cell_type": "code",
   "execution_count": null,
   "metadata": {},
   "outputs": [],
   "source": [
    "results_ctm_lda_sklearn = compute_simulation_scenario_other(simulation_scenario, simulation_params, 'lda_sklearn', 10, seed=123)\n",
    "results_ctm_prodlda_pyro = compute_simulation_scenario_other(simulation_scenario, simulation_params, 'prodlda_pyro', 10, seed=123)"
   ]
  },
  {
   "cell_type": "markdown",
   "metadata": {},
   "source": [
    "### Save results - structered part"
   ]
  },
  {
   "cell_type": "code",
   "execution_count": null,
   "metadata": {},
   "outputs": [],
   "source": [
    "results = [results_ctm_factm, results_ctm_factm_recon, results_ctm_fa_ctm,\n",
    "           results_ctm_lda_sklearn, results_ctm_prodlda_pyro]\n",
    "var_list = ['muFA_corr_spearmann', \n",
    "            'eta_corr_spearmann', 'eta_prob_spearmann', 'eta_prob_wasserstein', 'eta_prob_est_wasserstein',\n",
    "             'topics_wasserstein', 'topics_corr_spearmann', 'clusters_ARI']\n",
    "model_names = ['FACTM', 'FACTM(R)', 'CTM', 'LDA', 'ProdLDA']"
   ]
  },
  {
   "cell_type": "code",
   "execution_count": null,
   "metadata": {},
   "outputs": [],
   "source": [
    "df = pd.DataFrame()\n",
    "for var in var_list:\n",
    "    for i in range(len(results)):\n",
    "        df_tmp = pd.DataFrame(results[i][var], columns=simulation_params)\n",
    "        df_tmp = pd.melt(df_tmp, value_name='value', var_name='param')\n",
    "        df_tmp['Models'] = model_names[i]\n",
    "        df_tmp['var'] = var\n",
    "        df = pd.concat([df_tmp, df])\n",
    "df['sim_scenario'] = 'scaling_Sigma0'\n",
    "df = df.iloc[::-1]"
   ]
  },
  {
   "cell_type": "code",
   "execution_count": null,
   "metadata": {},
   "outputs": [],
   "source": [
    "df.to_csv('./results/scenario5_ctm.csv')"
   ]
  },
  {
   "cell_type": "markdown",
   "metadata": {},
   "source": [
    "## Scenario 6\n",
    "\n",
    "his section may not function correctly because it requires different \"basic\" results than those for scenarios 1-5. The functions in `compute_metrics_results.py` use the basic results for scenarios 1-5 (`basic`) instead of the results for scenario 6 (`basic_sparsity`)."
   ]
  },
  {
   "cell_type": "code",
   "execution_count": null,
   "metadata": {},
   "outputs": [],
   "source": [
    "simulation_scenario = 'scenario6'\n",
    "simulation_params = [0.0, 0.5, 1.0, 1.5, 2.0]"
   ]
  },
  {
   "cell_type": "code",
   "execution_count": null,
   "metadata": {},
   "outputs": [],
   "source": [
    "results_fa_factm, results_ctm_factm = compute_simulation_scenario(simulation_scenario, simulation_params, 'factm', 10, seed=123)\n",
    "results_fa_factm_recon, results_ctm_factm_recon = compute_simulation_scenario(simulation_scenario, simulation_params, 'factm', 10, seed=123, which_results = 'reconstruction')\n",
    "results_fa_fa_ctm, results_ctm_fa_ctm = compute_simulation_scenario(simulation_scenario, simulation_params, 'fa_ctm', 10, seed=123)"
   ]
  },
  {
   "cell_type": "code",
   "execution_count": null,
   "metadata": {},
   "outputs": [],
   "source": [
    "\n",
    "results_fa_fa, results_ctm_fa = compute_simulation_scenario(simulation_scenario, simulation_params, 'fa', 10, seed=123)\n",
    "results_fa_fa_oracle, results_ctm_fa_oracle = compute_simulation_scenario(simulation_scenario, simulation_params, 'fa_oracle', 10, seed=123)\n",
    "results_fa_muvi = compute_simulation_scenario_fa(simulation_scenario, simulation_params, 'muvi', 10, seed=123)\n",
    "results_fa_muvi_prior = compute_simulation_scenario_fa(simulation_scenario, simulation_params, 'muvi_prior', 10, seed=123)\n",
    "results_fa_mofa = compute_simulation_scenario_fa(simulation_scenario, simulation_params, 'mofa', 10, seed=123)\n",
    "results_fa_pca = compute_simulation_scenario_fa(simulation_scenario, simulation_params, 'pca', 10, seed=123)\n",
    "results_fa_tucker = compute_simulation_scenario_fa(simulation_scenario, simulation_params, 'tucker', 10, seed=123)"
   ]
  },
  {
   "cell_type": "markdown",
   "metadata": {},
   "source": [
    "### Save results - latent factors"
   ]
  },
  {
   "cell_type": "code",
   "execution_count": null,
   "metadata": {},
   "outputs": [],
   "source": [
    "results = [results_fa_mofa, results_fa_muvi_prior]\n",
    "var_list = ['z_corr_rotated', 'z_corr_best_order']\n",
    "model_names = ['MOFA', 'muVI_prior']"
   ]
  },
  {
   "cell_type": "code",
   "execution_count": null,
   "metadata": {},
   "outputs": [],
   "source": [
    "df = pd.DataFrame()\n",
    "for var in var_list:\n",
    "    for i in range(len(results)):\n",
    "        df_tmp = pd.DataFrame(results[i][var], columns=simulation_params)\n",
    "        df_tmp = pd.melt(df_tmp, value_name='value', var_name='param')\n",
    "        df_tmp['Models'] = model_names[i]\n",
    "        df_tmp['var'] = var\n",
    "        df = pd.concat([df_tmp, df])\n",
    "df['sim_scenario'] = 'scaling_sparsity'\n",
    "df = df.iloc[::-1]"
   ]
  },
  {
   "cell_type": "code",
   "execution_count": null,
   "metadata": {},
   "outputs": [],
   "source": [
    "df.to_csv('./results/scenario6_fa.csv')"
   ]
  },
  {
   "cell_type": "markdown",
   "metadata": {},
   "source": [
    "## Save tables"
   ]
  },
  {
   "cell_type": "markdown",
   "metadata": {},
   "source": [
    "### Results for FA"
   ]
  },
  {
   "cell_type": "code",
   "execution_count": null,
   "metadata": {},
   "outputs": [],
   "source": [
    "df1 = pd.read_csv('./results/scenario1_fa.csv', index_col=0)\n",
    "df2 = pd.read_csv('./results/scenario2_fa.csv', index_col=0)\n",
    "df3 = pd.read_csv('./results/scenario3_fa.csv', index_col=0)\n",
    "df = pd.concat([df1, df2, df3])"
   ]
  },
  {
   "cell_type": "code",
   "execution_count": null,
   "metadata": {},
   "outputs": [],
   "source": [
    "df.to_csv('simulation_results_fa.csv')"
   ]
  },
  {
   "cell_type": "markdown",
   "metadata": {},
   "source": [
    "### Results for structered data v1"
   ]
  },
  {
   "cell_type": "code",
   "execution_count": null,
   "metadata": {},
   "outputs": [],
   "source": [
    "df1 = pd.read_csv('./results/scenario1_ctm.csv', index_col=0)\n",
    "df2 = pd.read_csv('./results/scenario2_ctm.csv', index_col=0)\n",
    "df3 = pd.read_csv('./results/scenario3_ctm.csv', index_col=0)\n",
    "df = pd.concat([df1, df2, df3])"
   ]
  },
  {
   "cell_type": "code",
   "execution_count": null,
   "metadata": {},
   "outputs": [],
   "source": [
    "df.to_csv('simulation_results_ctm_v1.csv')"
   ]
  },
  {
   "cell_type": "markdown",
   "metadata": {},
   "source": [
    "### Results for structered data v2"
   ]
  },
  {
   "cell_type": "code",
   "execution_count": null,
   "metadata": {},
   "outputs": [],
   "source": [
    "df1 = pd.read_csv('./results/scenario4_ctm.csv', index_col=0)\n",
    "df2 = pd.read_csv('./results/scenario5_ctm.csv', index_col=0)\n",
    "df = pd.concat([df1, df2])"
   ]
  },
  {
   "cell_type": "code",
   "execution_count": null,
   "metadata": {},
   "outputs": [],
   "source": [
    "df.to_csv('simulation_results_ctm_v2.csv')"
   ]
  },
  {
   "cell_type": "markdown",
   "metadata": {},
   "source": [
    "### Results for additional simulation scenario 6"
   ]
  },
  {
   "cell_type": "code",
   "execution_count": null,
   "metadata": {},
   "outputs": [],
   "source": [
    "df = pd.read_csv('./results/scenario6_fa.csv', index_col=0)"
   ]
  },
  {
   "cell_type": "code",
   "execution_count": null,
   "metadata": {},
   "outputs": [],
   "source": [
    "df.to_csv('simulation_additional_results.csv')"
   ]
  }
 ],
 "metadata": {
  "kernelspec": {
   "display_name": "factors",
   "language": "python",
   "name": "python3"
  },
  "language_info": {
   "codemirror_mode": {
    "name": "ipython",
    "version": 3
   },
   "file_extension": ".py",
   "mimetype": "text/x-python",
   "name": "python",
   "nbconvert_exporter": "python",
   "pygments_lexer": "ipython3",
   "version": "3.9.19"
  }
 },
 "nbformat": 4,
 "nbformat_minor": 2
}
